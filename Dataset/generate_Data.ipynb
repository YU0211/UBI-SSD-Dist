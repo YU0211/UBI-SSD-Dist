{
 "cells": [
  {
   "cell_type": "code",
   "execution_count": 3,
   "metadata": {},
   "outputs": [],
   "source": [
    "import torch\n",
    "from IPython.display import Image  # for displaying images\n",
    "import os \n",
    "import random\n",
    "import shutil\n",
    "import xml.etree.ElementTree as ET\n",
    "from xml.dom import minidom\n",
    "from tqdm import tqdm\n",
    "from PIL import Image, ImageDraw, ImageFont\n",
    "import numpy as np\n",
    "import matplotlib.pyplot as plt\n",
    "from sklearn.model_selection import train_test_split\n",
    "import cv2\n",
    "from pathlib import Path \n",
    " \n",
    "def extract_info_from_xml(xml_file):\n",
    "    root = ET.parse(xml_file).getroot()\n",
    "    \n",
    "    # Initialise the info dict \n",
    "    info_dict = {}\n",
    "    info_dict['bboxes'] = []\n",
    "\n",
    "    # Parse the XML Tree\n",
    "    for elem in root:\n",
    "        # Get the file name \n",
    "        if elem.tag == \"filename\":\n",
    "            info_dict['filename'] = elem.text\n",
    "            \n",
    "        # Get the image size\n",
    "        elif elem.tag == \"size\":\n",
    "            image_size = []\n",
    "            for subelem in elem:\n",
    "                image_size.append(int(subelem.text))\n",
    "            \n",
    "            info_dict['image_size'] = tuple(image_size)\n",
    "        \n",
    "        # Get details of the bounding box \n",
    "        elif elem.tag == \"object\":\n",
    "            bbox = {}\n",
    "            for subelem in elem:\n",
    "                if subelem.tag == \"name\":\n",
    "                    bbox[\"class\"] = subelem.text\n",
    "                    \n",
    "                elif subelem.tag == \"bndbox\":\n",
    "                    for subsubelem in subelem:\n",
    "                        bbox[subsubelem.tag] = int(subsubelem.text)            \n",
    "            info_dict['bboxes'].append(bbox)\n",
    "    \n",
    "    return info_dict"
   ]
  },
  {
   "cell_type": "code",
   "execution_count": 5,
   "metadata": {},
   "outputs": [
    {
     "name": "stderr",
     "output_type": "stream",
     "text": [
      "100%|██████████| 4/4 [00:00<00:00, 16.10it/s]\n"
     ]
    },
    {
     "name": "stdout",
     "output_type": "stream",
     "text": [
      "Cityscape_06.mp4\n",
      "Cityscape_05.mp4\n",
      "Cityscape_04.mp4\n",
      "Fog_01.mp4\n",
      "Cityscape_01.mp4\n",
      "Cityscape_02.mp4\n",
      "Cityscape_03.mp4\n",
      "Rainy_01.mp4\n",
      "Rainy_02.mp4\n",
      "62515 62515\n",
      "Training set: 50012 validation set: 8752 test set: 3751\n"
     ]
    }
   ],
   "source": [
    "# Dictionary that maps class names to IDs\n",
    "class_name_to_id_mapping = {\"vehicle\":0, \"rider\":1, \"pedestrian\":2}\n",
    "\n",
    "images = []\n",
    "annotations = []\n",
    "\n",
    "rootpath = '/root/ubi/UBI_Dataset/'        \n",
    "for catalog_folder in tqdm(os.listdir(rootpath)):\n",
    "    file_folder = os.path.join(rootpath, catalog_folder)\n",
    "    if catalog_folder == 'Annotations':\n",
    "        file_folder = file_folder + '/All'\n",
    "        for i in os.listdir(file_folder):\n",
    "            filepath = os.path.join(file_folder, i)\n",
    "            for j in os.listdir(filepath):\n",
    "                annotations.append(os.path.join(filepath, j))\n",
    "    elif catalog_folder == 'JPEGImages':\n",
    "        file_folder = file_folder + '/All'\n",
    "        for i in os.listdir(file_folder):\n",
    "            print(i)\n",
    "            filepath = os.path.join(file_folder, i)\n",
    "            for j in os.listdir(filepath):\n",
    "                images.append(os.path.join(filepath, j))\n",
    "\n",
    "images.sort() \n",
    "annotations.sort()\n",
    "print(len(images),len(annotations))\n",
    "# Split the dataset into train-valid-test splits by 7:2:1 \n",
    "train_img, val_img, train_anns, val_anns = train_test_split(images, annotations, test_size = 0.2, random_state = 113)\n",
    "val_img, test_img, val_anns, test_anns = train_test_split(val_img, val_anns, test_size = 0.3, random_state = 113)\n",
    "\n",
    "print(\"Training set:\", len(train_img), \"validation set:\", len(val_img), \"test set:\", len(test_img))\n",
    "# print(train_img[0], train_anns[0].rstrip('.xml'))\n"
   ]
  },
  {
   "cell_type": "code",
   "execution_count": 3,
   "metadata": {},
   "outputs": [
    {
     "name": "stderr",
     "output_type": "stream",
     "text": [
      "100%|██████████| 50012/50012 [06:02<00:00, 138.04it/s]\n",
      "100%|██████████| 50012/50012 [10:02<00:00, 82.98it/s] \n",
      "100%|██████████| 8752/8752 [01:09<00:00, 125.29it/s]\n",
      "100%|██████████| 8752/8752 [01:41<00:00, 86.03it/s] \n",
      "100%|██████████| 3751/3751 [00:32<00:00, 116.60it/s]\n",
      "100%|██████████| 3751/3751 [00:43<00:00, 86.13it/s] \n"
     ]
    }
   ],
   "source": [
    "def move_files_to_folder(list_of_files, destination_folder):\n",
    "    if not os.path.isdir(destination_folder):\n",
    "        os.mkdir(destination_folder)\n",
    "        \n",
    "    for f in tqdm(list_of_files):\n",
    "        try:\n",
    "            shutil.copy(f, destination_folder)\n",
    "        except:\n",
    "            print(f)\n",
    "            assert False\n",
    "\n",
    "train_files = Path(\"../Data/train\")\n",
    "train_files.mkdir(parents=True, exist_ok=True)\n",
    "val_files = Path(\"../Data/val\")\n",
    "val_files.mkdir(parents=True, exist_ok=True)\n",
    "test_files = Path(\"../Data/test\")\n",
    "test_files.mkdir(parents=True, exist_ok=True)\n",
    "\n",
    "# Move the splits into their folders\n",
    "move_files_to_folder(train_anns, '../../Data/train/labels')\n",
    "move_files_to_folder(train_img, '../../Data/train/images')\n",
    "\n",
    "move_files_to_folder(val_anns, '../../Data/val/labels')\n",
    "move_files_to_folder(val_img, '../../Data/val/images')\n",
    "\n",
    "move_files_to_folder(test_anns, '../../Data/test/labels')\n",
    "move_files_to_folder(test_img, '../../Data/test/images')"
   ]
  },
  {
   "cell_type": "code",
   "execution_count": 4,
   "metadata": {},
   "outputs": [
    {
     "name": "stderr",
     "output_type": "stream",
     "text": [
      "100%|██████████| 3/3 [00:00<00:00, 46.92it/s]\n"
     ]
    }
   ],
   "source": [
    "rootpath = '/root/ubi/UBI_SSD/Data'        \n",
    "data = {'train':[], 'val':[], 'test':[]}\n",
    "\n",
    "for catalog_folder in tqdm(os.listdir(rootpath)):  #train、val、test\n",
    "    abspath = os.path.join(rootpath, catalog_folder)\n",
    "    file_folder = os.path.join(rootpath, catalog_folder, 'images')\n",
    "    for filename in os.listdir(file_folder):        #filename\n",
    "        data[catalog_folder].append(filename.rstrip('.jpg'))\n",
    "    data[catalog_folder].sort()"
   ]
  },
  {
   "cell_type": "code",
   "execution_count": 5,
   "metadata": {},
   "outputs": [
    {
     "name": "stderr",
     "output_type": "stream",
     "text": [
      "100%|██████████| 3/3 [00:00<00:00, 179.85it/s]\n"
     ]
    }
   ],
   "source": [
    "for item in tqdm(data):\n",
    "    \n",
    "    with open(f'../Data/{item}/{item}.txt', 'w') as f:\n",
    "        for line in data[item]:\n",
    "            f.write(f\"{line}\\n\")"
   ]
  }
 ],
 "metadata": {
  "kernelspec": {
   "display_name": "SDM",
   "language": "python",
   "name": "sdm"
  },
  "language_info": {
   "codemirror_mode": {
    "name": "ipython",
    "version": 3
   },
   "file_extension": ".py",
   "mimetype": "text/x-python",
   "name": "python",
   "nbconvert_exporter": "python",
   "pygments_lexer": "ipython3",
   "version": "3.6.9"
  },
  "orig_nbformat": 4
 },
 "nbformat": 4,
 "nbformat_minor": 2
}
