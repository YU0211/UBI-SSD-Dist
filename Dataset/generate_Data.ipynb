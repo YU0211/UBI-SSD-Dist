{
 "cells": [
  {
   "cell_type": "code",
   "execution_count": 35,
   "metadata": {},
   "outputs": [],
   "source": [
    "import os \n",
    "import shutil\n",
    "import xml.etree.ElementTree as ET\n",
    "from tqdm import tqdm\n",
    "import numpy as np\n",
    "from sklearn.model_selection import train_test_split\n",
    "import json\n",
    "from pathlib import Path \n",
    " \n",
    "# Dictionary that maps class names to IDs\n",
    "class_name_to_id_mapping = {\"BACKGROUND\": 0, \"vehicle\": 1, \"rider\": 2, \"pedestrian\": 3}"
   ]
  },
  {
   "cell_type": "code",
   "execution_count": 36,
   "metadata": {},
   "outputs": [],
   "source": [
    "!rm -rf /root/ubi/Data/"
   ]
  },
  {
   "cell_type": "code",
   "execution_count": 37,
   "metadata": {},
   "outputs": [
    {
     "name": "stderr",
     "output_type": "stream",
     "text": [
      "  0%|          | 0/4 [00:00<?, ?it/s]"
     ]
    },
    {
     "name": "stderr",
     "output_type": "stream",
     "text": [
      "100%|██████████| 4/4 [00:01<00:00,  2.32it/s]"
     ]
    },
    {
     "name": "stdout",
     "output_type": "stream",
     "text": [
      "Training set: 43760 validation set: 13128 test set: 5627\n"
     ]
    },
    {
     "name": "stderr",
     "output_type": "stream",
     "text": [
      "\n"
     ]
    }
   ],
   "source": [
    "images = []\n",
    "annotations = []\n",
    "\n",
    "rootpath = '/root/ubi/UBI_Dataset/'        \n",
    "for catalog_folder in tqdm(os.listdir(rootpath)):\n",
    "    file_folder = os.path.join(rootpath, catalog_folder)\n",
    "    if catalog_folder == 'Annotations':\n",
    "        file_folder = file_folder + '/All'\n",
    "        for i in os.listdir(file_folder):\n",
    "            filepath = os.path.join(file_folder, i)\n",
    "            for j in os.listdir(filepath):\n",
    "                annotations.append(os.path.join(filepath, j))\n",
    "    elif catalog_folder == 'JPEGImages':\n",
    "        file_folder = file_folder + '/All'\n",
    "        for i in os.listdir(file_folder):\n",
    "            filepath = os.path.join(file_folder, i)\n",
    "            for j in os.listdir(filepath):\n",
    "                images.append(os.path.join(filepath, j))\n",
    "\n",
    "images.sort() \n",
    "annotations.sort()\n",
    "# Split the dataset into train-valid-test splits by 7:2:1 \n",
    "train_img, val_img, train_anns, val_anns = train_test_split(images, annotations, test_size = 0.3, random_state = 113)\n",
    "val_img, test_img, val_anns, test_anns = train_test_split(val_img, val_anns, test_size = 0.3, random_state = 113)\n",
    "\n",
    "print(\"Training set:\", len(train_img), \"validation set:\", len(val_img), \"test set:\", len(test_img))\n",
    "# print(train_img[0], train_anns[0].rstrip('.xml'))"
   ]
  },
  {
   "cell_type": "code",
   "execution_count": 38,
   "metadata": {},
   "outputs": [
    {
     "name": "stderr",
     "output_type": "stream",
     "text": [
      "100%|██████████| 43760/43760 [05:36<00:00, 130.12it/s]\n",
      "100%|██████████| 43760/43760 [09:49<00:00, 74.25it/s] \n",
      "100%|██████████| 13128/13128 [01:45<00:00, 124.55it/s]\n",
      "100%|██████████| 13128/13128 [02:44<00:00, 79.92it/s] \n",
      "100%|██████████| 5627/5627 [00:46<00:00, 120.35it/s]\n",
      "100%|██████████| 5627/5627 [01:06<00:00, 84.53it/s] \n"
     ]
    }
   ],
   "source": [
    "def move_files_to_folder(list_of_files, destination_folder):\n",
    "    if not os.path.isdir(destination_folder):\n",
    "        os.mkdir(destination_folder)\n",
    "        \n",
    "    for f in tqdm(list_of_files):\n",
    "        try:\n",
    "            shutil.copy(f, destination_folder)\n",
    "        except:\n",
    "            print(f)\n",
    "            assert False\n",
    "\n",
    "train_files = Path(\"../../Data/train\")\n",
    "train_files.mkdir(parents=True, exist_ok=True)\n",
    "val_files = Path(\"../../Data/val\")\n",
    "val_files.mkdir(parents=True, exist_ok=True)\n",
    "test_files = Path(\"../../Data/test\")\n",
    "test_files.mkdir(parents=True, exist_ok=True)\n",
    "\n",
    "# Move the splits into their folders\n",
    "move_files_to_folder(train_anns, '../../Data/train/labels')\n",
    "move_files_to_folder(train_img, '../../Data/train/images')\n",
    "\n",
    "move_files_to_folder(val_anns, '../../Data/val/labels')\n",
    "move_files_to_folder(val_img, '../../Data/val/images')\n",
    "\n",
    "move_files_to_folder(test_anns, '../../Data/test/labels')\n",
    "move_files_to_folder(test_img, '../../Data/test/images')"
   ]
  },
  {
   "cell_type": "code",
   "execution_count": 39,
   "metadata": {},
   "outputs": [
    {
     "name": "stderr",
     "output_type": "stream",
     "text": [
      "100%|██████████| 3/3 [00:00<00:00, 35.70it/s]\n",
      "100%|██████████| 3/3 [00:00<00:00, 55.54it/s]\n"
     ]
    }
   ],
   "source": [
    "rootpath = '../../Data'        \n",
    "data = {'train':[], 'val':[], 'test':[]}\n",
    "\n",
    "for catalog_folder in tqdm(os.listdir(rootpath)):  #train、val、test\n",
    "    abspath = os.path.join(rootpath, catalog_folder)\n",
    "    file_folder = os.path.join(rootpath, catalog_folder, 'images')\n",
    "    for filename in os.listdir(file_folder):        #filename\n",
    "        data[catalog_folder].append(filename.rstrip('.jpg'))\n",
    "    data[catalog_folder].sort()\n",
    "for item in tqdm(data):\n",
    "    with open(f'{rootpath}/{item}/{item}.txt', 'w') as f:\n",
    "        for line in data[item]:\n",
    "            f.write(f\"{line}\\n\")"
   ]
  },
  {
   "cell_type": "code",
   "execution_count": 40,
   "metadata": {},
   "outputs": [],
   "source": [
    "def extract_info_from_xml(path, xml_id):\n",
    "\n",
    "    objects = ET.parse(f\"{path}/{xml_id}.xml\").findall(\"object\")\n",
    "    boxes = []\n",
    "    labels = []\n",
    "    is_difficult = []\n",
    "    for obj in objects:\n",
    "        class_name = obj.find('name').text.lower().strip()\n",
    "        # we're only concerned with clases in our list\n",
    "        if class_name in class_name_to_id_mapping:\n",
    "            bbox = obj.find('bndbox')\n",
    "\n",
    "            # VOC dataset format follows Matlab, in which indexes start from 0\n",
    "            x1 = float(bbox.find('xmin').text)\n",
    "            y1 = float(bbox.find('ymin').text)\n",
    "            x2 = float(bbox.find('xmax').text)\n",
    "            y2 = float(bbox.find('ymax').text)\n",
    "\n",
    "            if x1 > x2:\n",
    "                x1, x2 = x2, x1\n",
    "            if y1 > y2:\n",
    "                y1, y2 = y2, y1\n",
    "\n",
    "            boxes.append([x1, y1, x2, y2])\n",
    "\n",
    "            labels.append(class_name_to_id_mapping[class_name])\n",
    "\n",
    "            is_difficult.append(\n",
    "                int(obj.find('difficult').text) if obj.find('difficult') else 0)\n",
    "\n",
    "    return {'filename': xml_id, 'boxes': boxes, 'labels': labels, 'is_difficult': is_difficult}"
   ]
  },
  {
   "cell_type": "code",
   "execution_count": 41,
   "metadata": {},
   "outputs": [
    {
     "name": "stderr",
     "output_type": "stream",
     "text": [
      "100%|██████████| 43760/43760 [09:29<00:00, 76.79it/s] \n",
      "100%|██████████| 13128/13128 [00:01<00:00, 8801.52it/s] \n",
      "100%|██████████| 5627/5627 [00:00<00:00, 9064.34it/s]\n"
     ]
    }
   ],
   "source": [
    "for dataset_type in os.listdir(rootpath):\n",
    "    length = len(os.listdir(f\"{rootpath}/{dataset_type}/labels\")) \n",
    "    jsonfile = f\"{rootpath}/{dataset_type}/{dataset_type}.json\"\n",
    "    data = []\n",
    "    with open(f\"{rootpath}/{dataset_type}/{dataset_type}.txt\", 'r') as f:\n",
    "        for xml_id in tqdm(f, total=length):\n",
    "            data.append(extract_info_from_xml(\n",
    "                f\"{rootpath}/{dataset_type}/labels\", xml_id.rstrip()))\n",
    "    with open(jsonfile, 'w', encoding='utf8') as f:\n",
    "        json.dump(data, f, ensure_ascii=False, indent=3)"
   ]
  }
 ],
 "metadata": {
  "kernelspec": {
   "display_name": "UBI",
   "language": "python",
   "name": "ubi"
  },
  "language_info": {
   "codemirror_mode": {
    "name": "ipython",
    "version": 3
   },
   "file_extension": ".py",
   "mimetype": "text/x-python",
   "name": "python",
   "nbconvert_exporter": "python",
   "pygments_lexer": "ipython3",
   "version": "3.6.9"
  },
  "orig_nbformat": 4
 },
 "nbformat": 4,
 "nbformat_minor": 2
}
